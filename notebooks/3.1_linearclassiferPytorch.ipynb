{
 "cells": [
  {
   "cell_type": "markdown",
   "id": "511b5e3e-18e9-49aa-9078-0c146430c78a",
   "metadata": {},
   "source": [
    "<h1>Objective</h1><ul><li> How to use linear classifier in pytorch.</li></ul>\n"
   ]
  },
  {
   "cell_type": "markdown",
   "id": "6e8ef6cd-a972-4abc-91c2-8b04ef2da91e",
   "metadata": {},
   "source": [
    "<h1>Linear  Classifier with PyTorch </h1>\n"
   ]
  },
  {
   "cell_type": "markdown",
   "id": "e458c641-4ead-4fbd-93e3-f36c6bf71f36",
   "metadata": {},
   "source": [
    "<p>Before you use a  Deep neural network to solve the classification problem,  it 's a good idea to try and solve the problem with the simplest method. You will need the dataset object from the previous section.\n",
    "In this lab, we solve the problem with a linear classifier.\n",
    " You will be asked to determine the maximum accuracy your linear classifier can achieve on the validation data for 5 epochs. We will give some free parameter values if you follow the instructions you will be able to answer the quiz. Just like the other labs there are several steps, but in this lab you will only be quizzed on the final result. </p>\n"
   ]
  },
  {
   "cell_type": "markdown",
   "id": "959ae184-c700-4c7a-9528-d45243b84543",
   "metadata": {},
   "source": [
    "<h2>Table of Contents</h2>\n"
   ]
  },
  {
   "cell_type": "markdown",
   "id": "a898ca26-34ef-4a66-921b-131d57fa93c0",
   "metadata": {},
   "source": [
    "<div class=\"alert alert-block alert-info\" style=\"margin-top: 20px\">\n",
    "\n",
    "<ul>\n",
    "    <li><a href=\"#auxiliary\"> Imports and Auxiliary Functions </a></li>\n",
    "    <li><a href=\"#download_data\"> Download data</a></li>\n",
    "    <li><a href=\"#data_class\"> Dataset Class</a></li>\n",
    "    <li><a href=\"#trasform_Data_object\">Transform Object and Dataset Object</a></li>\n",
    "    <li><a href=\"#Question\">Question</a></li>\n",
    "</ul>\n",
    "<p>Estimated Time Needed: <strong>25 min</strong></p>\n",
    " </div>\n",
    "<hr>\n"
   ]
  },
  {
   "cell_type": "markdown",
   "id": "5b39d39a-0c6c-4cc5-b2fb-b7f995228e5f",
   "metadata": {},
   "source": [
    "<h2 id=\"auxiliary\">Imports and Auxiliary Functions</h2>\n"
   ]
  },
  {
   "cell_type": "markdown",
   "id": "c1afdc96-83f1-4d16-ba10-cca44cba9568",
   "metadata": {},
   "source": [
    "The following are the libraries we are going to use for this lab:\n"
   ]
  },
  {
   "cell_type": "code",
   "execution_count": 1,
   "id": "ee6d7b9b-e7bd-4b1c-9cd4-b94dbdac6d3e",
   "metadata": {},
   "outputs": [],
   "source": [
    "from PIL import Image\n",
    "import matplotlib.pyplot as plt\n",
    "import os\n",
    "import glob\n",
    "import torch\n",
    "from torch.utils.data import Dataset, DataLoader\n",
    "import torchvision.transforms as transforms\n",
    "import torch.nn as nn\n",
    "from torch import optim\n",
    "\n",
    "# import skillsnetwork"
   ]
  },
  {
   "cell_type": "markdown",
   "id": "f5d6b776-02ce-4952-ae93-ed5605d4c3b7",
   "metadata": {},
   "source": [
    "<h2 id=\"download_data\">Download Data</h2>\n"
   ]
  },
  {
   "cell_type": "markdown",
   "id": "855ca7b4-9c1f-48d7-aff3-cf8b13f717d3",
   "metadata": {},
   "source": [
    "In this section, you are going to download the data from IBM object storage using **skillsnetwork.prepare** command. <b>skillsnetwork.prepare</b> is a command that's used to download a zip file, unzip it and store it in a specified directory. Locally we store the data in the directory **/resources/data**.\n"
   ]
  },
  {
   "cell_type": "markdown",
   "id": "afbb8c4c-35de-438d-9a25-9d5a81b447f1",
   "metadata": {},
   "source": [
    "First, we download the file that contains the images:\n"
   ]
  },
  {
   "cell_type": "code",
   "execution_count": 2,
   "id": "57980cea-00a7-4c2f-a300-5edc5a96c9a0",
   "metadata": {},
   "outputs": [],
   "source": [
    "# await skillsnetwork.prepare(\"https://s3-api.us-geo.objectstorage.softlayer.net/cf-courses-data/CognitiveClass/DL0321EN/data/images/concrete_crack_images_for_classification.zip\", path = \"/resources/data\", overwrite=True)"
   ]
  },
  {
   "cell_type": "markdown",
   "id": "169aa2a4-e386-4fd8-aecf-a6903edfaae8",
   "metadata": {},
   "source": [
    "<h2 id=\"data_class\">Dataset Class</h2>\n"
   ]
  },
  {
   "cell_type": "markdown",
   "id": "23b813c2-7c0a-4ece-af38-8eb6b2b5fdf3",
   "metadata": {},
   "source": [
    "In this section, we will use the previous code to build a dataset class. As before, make sure the even samples are positive, and the odd samples are negative. In this case, if the parameter <code>train</code> is set to <code>True</code>, use the first 10 000 samples as training data; otherwise, the last 10 000 samples will be used as validation data. Do not forget to sort your files so they are in the same order.\n"
   ]
  },
  {
   "cell_type": "markdown",
   "id": "696a5cea-a543-454d-a4be-d480863aa4fc",
   "metadata": {},
   "source": [
    "**Note:** We are using the first 10,000 samples as our training data instead of the available 30,000 to decrease the training time of the model. If you want, you can train it yourself with all 30,000 samples just by modifying 2 lines in the following code chunk.\n"
   ]
  },
  {
   "cell_type": "code",
   "execution_count": 3,
   "id": "3592dd5f-73a4-4fcf-8278-4ec0424976df",
   "metadata": {},
   "outputs": [],
   "source": [
    "class Dataset(Dataset):\n",
    "\n",
    "    # Constructor\n",
    "    def __init__(self, transform=None, train=True):\n",
    "        directory = \"./resources/data\"\n",
    "        positive = \"Positive\"\n",
    "        negative = \"Negative\"\n",
    "\n",
    "        positive_file_path = os.path.join(directory, positive)\n",
    "        negative_file_path = os.path.join(directory, negative)\n",
    "        positive_files = [\n",
    "            os.path.join(positive_file_path, file)\n",
    "            for file in os.listdir(positive_file_path)\n",
    "            if file.endswith(\".jpg\")\n",
    "        ]\n",
    "        positive_files.sort()\n",
    "        negative_files = [\n",
    "            os.path.join(negative_file_path, file)\n",
    "            for file in os.listdir(negative_file_path)\n",
    "            if file.endswith(\".jpg\")\n",
    "        ]\n",
    "        negative_files.sort()\n",
    "        number_of_samples = len(positive_files) + len(negative_files)\n",
    "        self.all_files = [None] * number_of_samples\n",
    "        self.all_files[::2] = positive_files\n",
    "        self.all_files[1::2] = negative_files\n",
    "        # The transform is goint to be used on image\n",
    "        self.transform = transform\n",
    "        # torch.LongTensor\n",
    "        self.Y = torch.zeros([number_of_samples]).type(torch.LongTensor)\n",
    "        self.Y[::2] = 1\n",
    "        self.Y[1::2] = 0\n",
    "\n",
    "        if train:\n",
    "            self.all_files = self.all_files[\n",
    "                0:10000\n",
    "            ]  # Change to 30000 to use the full test dataset\n",
    "            self.Y = self.Y[0:10000]  # Change to 30000 to use the full test dataset\n",
    "            self.len = len(self.all_files)\n",
    "        else:\n",
    "            self.all_files = self.all_files[30000:]\n",
    "            self.Y = self.Y[30000:]\n",
    "            self.len = len(self.all_files)\n",
    "\n",
    "    # Get the length\n",
    "    def __len__(self):\n",
    "        return self.len\n",
    "\n",
    "    # Getter\n",
    "    def __getitem__(self, idx):\n",
    "\n",
    "        image = Image.open(self.all_files[idx])\n",
    "        y = self.Y[idx]\n",
    "\n",
    "        # If there is any transform method, apply it onto the image\n",
    "        if self.transform:\n",
    "            image = self.transform(image)\n",
    "\n",
    "        return image, y"
   ]
  },
  {
   "cell_type": "markdown",
   "id": "19a1afae-68b9-492d-a47d-7b6243cb4861",
   "metadata": {},
   "source": [
    "<h2 id=\"trasform_Data_object\">Transform Object and Dataset Object</h2>\n"
   ]
  },
  {
   "cell_type": "markdown",
   "id": "f1ea27e7-9fd7-4ce7-9fc6-4195a9313e49",
   "metadata": {},
   "source": [
    "Create a transform object, that uses the <code>Compose</code> function. First use the transform <code>ToTensor()</code> and followed by <code>Normalize(mean, std)</code>. The value for <code> mean</code> and <code>std</code> are provided for you.\n"
   ]
  },
  {
   "cell_type": "code",
   "execution_count": 4,
   "id": "d9bf67d6-7aff-4f4c-93c4-780dfc5577da",
   "metadata": {},
   "outputs": [],
   "source": [
    "mean = [0.485, 0.456, 0.406]\n",
    "std = [0.229, 0.224, 0.225]\n",
    "# transforms.ToTensor()\n",
    "# transforms.Normalize(mean, std)\n",
    "# transforms.Compose([])\n",
    "\n",
    "transform = transforms.Compose([transforms.ToTensor(), transforms.Normalize(mean, std)])"
   ]
  },
  {
   "cell_type": "markdown",
   "id": "a5a6b775-bc86-4e0f-a326-7dd7bd10d3f2",
   "metadata": {},
   "source": [
    "Create object for the training data <code>dataset_train</code> and validation <code>dataset_val</code>. Use the transform object to convert the images to tensors using the transform object:\n"
   ]
  },
  {
   "cell_type": "code",
   "execution_count": 5,
   "id": "9fd7b459-ea51-4955-abe2-3999eb9497d3",
   "metadata": {},
   "outputs": [],
   "source": [
    "dataset_train = Dataset(transform=transform, train=True)\n",
    "dataset_val = Dataset(transform=transform, train=False)"
   ]
  },
  {
   "cell_type": "markdown",
   "id": "2ee26a33-0482-4507-8507-948e123b3e6e",
   "metadata": {},
   "source": [
    "We can find the shape of the image:\n"
   ]
  },
  {
   "cell_type": "code",
   "execution_count": 6,
   "id": "9656fb8b-c683-49ae-881f-4d2f8e667148",
   "metadata": {},
   "outputs": [
    {
     "data": {
      "text/plain": [
       "torch.Size([3, 227, 227])"
      ]
     },
     "execution_count": 6,
     "metadata": {},
     "output_type": "execute_result"
    }
   ],
   "source": [
    "dataset_train[0][0].shape"
   ]
  },
  {
   "cell_type": "markdown",
   "id": "c9c23555-d016-41f7-a68d-b086f7ed1295",
   "metadata": {},
   "source": [
    "We see that it's a color image with three channels:\n"
   ]
  },
  {
   "cell_type": "code",
   "execution_count": 7,
   "id": "307db3a7-c119-4d0b-8615-7f195adfc1a7",
   "metadata": {},
   "outputs": [
    {
     "data": {
      "text/plain": [
       "154587"
      ]
     },
     "execution_count": 7,
     "metadata": {},
     "output_type": "execute_result"
    }
   ],
   "source": [
    "size_of_image = 3 * 227 * 227\n",
    "size_of_image"
   ]
  },
  {
   "cell_type": "markdown",
   "id": "9f6a9281-1f28-4e95-940f-f54c3949a386",
   "metadata": {},
   "source": [
    "<h2 id=\"Question\"> Question <h2>\n"
   ]
  },
  {
   "cell_type": "markdown",
   "id": "7013b455-f31e-4051-a4e0-7dc38416f905",
   "metadata": {},
   "source": [
    "<b> Create a custom module for Softmax for two classes,called model. The input size should be the <code>size_of_image</code>, you should record the maximum accuracy achieved on the validation data for the different epochs. For example if the 5 epochs the accuracy was 0.5, 0.2, 0.64,0.77, 0.66 you would select 0.77.</b>\n"
   ]
  },
  {
   "cell_type": "markdown",
   "id": "1ee6255a-f160-4de2-967f-678f40d9f9f2",
   "metadata": {},
   "source": [
    "Train the model with the following free parameter values:\n"
   ]
  },
  {
   "cell_type": "markdown",
   "id": "de78cc9f-43c4-4056-99f8-889397a60db9",
   "metadata": {},
   "source": [
    "<b>Parameter Values</b>\n",
    "\n",
    "   <li>learning rate:0.1 </li>\n",
    "   <li>momentum term:0.1 </li>\n",
    "   <li>batch size training:5</li>\n",
    "   <li>Loss function:Cross Entropy Loss </li>\n",
    "   <li>epochs:5</li>\n",
    "   <li>set: torch.manual_seed(0)</li>\n"
   ]
  },
  {
   "cell_type": "code",
   "execution_count": 8,
   "id": "3b869f23-c005-43c5-a19b-960a27a2cbca",
   "metadata": {},
   "outputs": [
    {
     "data": {
      "text/plain": [
       "<torch._C.Generator at 0x127e07f10>"
      ]
     },
     "execution_count": 8,
     "metadata": {},
     "output_type": "execute_result"
    }
   ],
   "source": [
    "torch.manual_seed(0)"
   ]
  },
  {
   "cell_type": "markdown",
   "id": "a25ff3d5-fdd9-47b4-8763-e5f75ee94171",
   "metadata": {},
   "source": [
    "<b>Custom Module:</b>\n"
   ]
  },
  {
   "cell_type": "code",
   "execution_count": 9,
   "id": "61243323-46a8-47c0-960a-b3aed36ea683",
   "metadata": {},
   "outputs": [],
   "source": [
    "class CustomModel(nn.Module):\n",
    "\n",
    "    def __init__(self, input_size, output_size):\n",
    "        super(CustomModel, self).__init__()\n",
    "        self.linear = nn.Linear(input_size, output_size)\n",
    "\n",
    "\n",
    "    def forward(self, x):\n",
    "        z = self.linear(x)\n",
    "        return z"
   ]
  },
  {
   "cell_type": "markdown",
   "id": "d64deba9-68af-4305-811a-76ddd4008496",
   "metadata": {},
   "source": [
    "<b>Model Object:</b>\n"
   ]
  },
  {
   "cell_type": "code",
   "execution_count": 10,
   "id": "65218b87-10a0-40d3-9475-96622ca3beed",
   "metadata": {},
   "outputs": [],
   "source": [
    "model = CustomModel(size_of_image, 2)"
   ]
  },
  {
   "cell_type": "markdown",
   "id": "caddb9d2-7640-49d4-99d2-532a4fd1b5da",
   "metadata": {},
   "source": [
    "<b>Optimizer:</b>\n"
   ]
  },
  {
   "cell_type": "code",
   "execution_count": 11,
   "id": "58f585a5-2e6b-4b6e-9b9e-3c65b9e0f5f5",
   "metadata": {},
   "outputs": [],
   "source": [
    "optimizer = optim.SGD(model.parameters(), lr=0.1, momentum=0.1)"
   ]
  },
  {
   "cell_type": "markdown",
   "id": "eeb9cf10-7699-4765-af5d-4a6e08f14a13",
   "metadata": {},
   "source": [
    "<b>Criterion:</b>\n"
   ]
  },
  {
   "cell_type": "code",
   "execution_count": 12,
   "id": "e246c193-0cc4-47bf-ae3a-b8dd48258c81",
   "metadata": {},
   "outputs": [],
   "source": [
    "criterion = nn.CrossEntropyLoss()"
   ]
  },
  {
   "cell_type": "markdown",
   "id": "6e4bac5e-8239-4178-a74e-cfcb5b52f912",
   "metadata": {},
   "source": [
    "<b>Data Loader Training and Validation:</b>\n"
   ]
  },
  {
   "cell_type": "code",
   "execution_count": 13,
   "id": "de3e082f-af91-410b-b664-64a61f7e8c09",
   "metadata": {},
   "outputs": [],
   "source": [
    "train_loader = DataLoader(dataset=dataset_train, batch_size=1000)\n",
    "validation_loader = DataLoader(dataset=dataset_val, batch_size=5000)"
   ]
  },
  {
   "cell_type": "markdown",
   "id": "b685a5bf-96d4-49de-a394-5b32be0ac3ee",
   "metadata": {},
   "source": [
    "<b>Train Model with 5 epochs, should take 35 minutes: </b>\n"
   ]
  },
  {
   "cell_type": "code",
   "execution_count": 14,
   "id": "66e802e9-63f7-469f-9b53-93d5ffa2a790",
   "metadata": {},
   "outputs": [],
   "source": [
    "from sympy import use\n",
    "\n",
    "\n",
    "def train_model(model, criterion, train_loader, validation_loader, optimizer, epochs=5):\n",
    "    useful_stuff = {\"training_loss\": [], \"validation_accuracy\": []}\n",
    "\n",
    "    for epoch in range(epochs):\n",
    "        total_loss = 0.0\n",
    "        for i, (x, y) in enumerate(train_loader):\n",
    "            optimizer.zero_grad()\n",
    "            z = model(x.view(-1, size_of_image))\n",
    "            loss = criterion(z, y)\n",
    "            loss.backward()\n",
    "            optimizer.step()\n",
    "            total_loss += loss.data.item()\n",
    "\n",
    "        correct = 0\n",
    "        for x, y in validation_loader:\n",
    "            z = model(x.view(-1, size_of_image))\n",
    "            _, label = torch.max(z, 1)\n",
    "            correct += (label == y).sum().item()\n",
    "        useful_stuff[\"training_loss\"].append(total_loss / len(train_loader))\n",
    "        accuracy = 100 * (correct / len(dataset_val))\n",
    "        useful_stuff[\"validation_accuracy\"].append(accuracy)\n",
    "\n",
    "    return useful_stuff\n",
    "\n",
    "\n",
    "history = train_model(model, criterion, train_loader, validation_loader, optimizer)"
   ]
  },
  {
   "cell_type": "code",
   "execution_count": 15,
   "metadata": {},
   "outputs": [
    {
     "data": {
      "image/png": "[encoded data removed]",
      "text/plain": [
       "<Figure size 640x480 with 2 Axes>"
      ]
     },
     "metadata": {},
     "output_type": "display_data"
    }
   ],
   "source": [
    "fig, ax1 = plt.subplots()\n",
    "color = \"tab:red\"\n",
    "ax1.plot(history[\"training_loss\"], color=color)\n",
    "ax1.set_xlabel(\"epoch\", color=color)\n",
    "ax1.set_ylabel(\"avg loss\", color=color)\n",
    "ax1.tick_params(axis=\"y\", color=color)\n",
    "\n",
    "ax2 = ax1.twinx()\n",
    "color = \"tab:blue\"\n",
    "ax2.set_ylabel(\"accuracy\", color=color)\n",
    "ax2.plot(history[\"validation_accuracy\"], color=color)\n",
    "ax2.tick_params(axis=\"y\", color=color)\n",
    "fig.tight_layout()"
   ]
  }
 ],
 "metadata": {
  "kernelspec": {
   "display_name": "Python 3",
   "language": "python",
   "name": "python3"
  },
  "language_info": {
   "codemirror_mode": {
    "name": "ipython",
    "version": 3
   },
   "file_extension": ".py",
   "mimetype": "text/x-python",
   "name": "python",
   "nbconvert_exporter": "python",
   "pygments_lexer": "ipython3",
   "version": "3.12.4"
  },
  "prev_pub_hash": "d76b47f27f3838cee5fcf531fe9ce8abc439f204aaa935161f67b638f12e7c04"
 },
 "nbformat": 4,
 "nbformat_minor": 4
}
